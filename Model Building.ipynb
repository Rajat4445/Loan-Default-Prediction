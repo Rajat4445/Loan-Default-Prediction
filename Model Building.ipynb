{
 "cells": [
  {
   "cell_type": "markdown",
   "metadata": {},
   "source": [
    " <h1  style=\"text-align: center\"  class=\"list-group-item list-group-item-warning\"> <span style=\"color:#2E6AA9\"> Model Building: Loan Default Prediction</span>  </h1>"
   ]
  },
  {
   "cell_type": "code",
   "execution_count": 1,
   "metadata": {},
   "outputs": [],
   "source": [
    "import numpy as np\n",
    "import pandas as pd\n",
    "\n",
    "import matplotlib.pyplot as plt\n",
    "import seaborn as sns\n",
    "\n",
    "import scipy.stats as stats       # For Statistical Analysis\n",
    "\n",
    "import warnings\n",
    "warnings.filterwarnings('ignore')\n",
    "\n",
    "from sklearn.impute import SimpleImputer            # ML Frameworks\n",
    "from sklearn import preprocessing\n",
    "from sklearn.preprocessing import StandardScaler, MinMaxScaler\n",
    "from sklearn.metrics import confusion_matrix, accuracy_score, recall_score, precision_score, f1_score\n",
    "from sklearn.linear_model import LogisticRegression\n",
    "from sklearn.model_selection import train_test_split, RandomizedSearchCV\n",
    "\n",
    "%matplotlib inline "
   ]
  },
  {
   "cell_type": "code",
   "execution_count": 4,
   "metadata": {},
   "outputs": [
    {
     "data": {
      "text/html": [
       "<div>\n",
       "<style scoped>\n",
       "    .dataframe tbody tr th:only-of-type {\n",
       "        vertical-align: middle;\n",
       "    }\n",
       "\n",
       "    .dataframe tbody tr th {\n",
       "        vertical-align: top;\n",
       "    }\n",
       "\n",
       "    .dataframe thead th {\n",
       "        text-align: right;\n",
       "    }\n",
       "</style>\n",
       "<table border=\"1\" class=\"dataframe\">\n",
       "  <thead>\n",
       "    <tr style=\"text-align: right;\">\n",
       "      <th></th>\n",
       "      <th>TARGET</th>\n",
       "      <th>CNT_CHILDREN</th>\n",
       "      <th>AMT_INCOME_TOTAL</th>\n",
       "      <th>AMT_CREDIT</th>\n",
       "      <th>AMT_ANNUITY</th>\n",
       "      <th>REGION_POPULATION_RELATIVE</th>\n",
       "      <th>OWN_CAR_AGE</th>\n",
       "      <th>CNT_FAM_MEMBERS</th>\n",
       "      <th>HOUR_APPR_PROCESS_START</th>\n",
       "      <th>REG_CITY_NOT_LIVE_CITY</th>\n",
       "      <th>...</th>\n",
       "      <th>WEEKDAY_APPR_PROCESS_START_G_THURSDAY</th>\n",
       "      <th>WEEKDAY_APPR_PROCESS_START_G_TUESDAY</th>\n",
       "      <th>WEEKDAY_APPR_PROCESS_START_G_WEDNESDAY</th>\n",
       "      <th>WEEKDAY_APPR_PROCESS_START_G_WEEKEND</th>\n",
       "      <th>ORGANIZATION_TYPE_G_Type2</th>\n",
       "      <th>ORGANIZATION_TYPE_G_Type3</th>\n",
       "      <th>ORGANIZATION_TYPE_G_Type4</th>\n",
       "      <th>ORGANIZATION_TYPE_G_Type5</th>\n",
       "      <th>ORGANIZATION_TYPE_G_Type6</th>\n",
       "      <th>ORGANIZATION_TYPE_G_Type7</th>\n",
       "    </tr>\n",
       "  </thead>\n",
       "  <tbody>\n",
       "    <tr>\n",
       "      <th>0</th>\n",
       "      <td>1</td>\n",
       "      <td>0</td>\n",
       "      <td>202500.0</td>\n",
       "      <td>406597.5</td>\n",
       "      <td>24700.5</td>\n",
       "      <td>0.018801</td>\n",
       "      <td>0</td>\n",
       "      <td>1</td>\n",
       "      <td>10</td>\n",
       "      <td>0</td>\n",
       "      <td>...</td>\n",
       "      <td>0</td>\n",
       "      <td>0</td>\n",
       "      <td>1</td>\n",
       "      <td>0</td>\n",
       "      <td>0</td>\n",
       "      <td>0</td>\n",
       "      <td>1</td>\n",
       "      <td>0</td>\n",
       "      <td>0</td>\n",
       "      <td>0</td>\n",
       "    </tr>\n",
       "    <tr>\n",
       "      <th>1</th>\n",
       "      <td>0</td>\n",
       "      <td>0</td>\n",
       "      <td>270000.0</td>\n",
       "      <td>1293502.5</td>\n",
       "      <td>35698.5</td>\n",
       "      <td>0.003541</td>\n",
       "      <td>0</td>\n",
       "      <td>2</td>\n",
       "      <td>11</td>\n",
       "      <td>0</td>\n",
       "      <td>...</td>\n",
       "      <td>0</td>\n",
       "      <td>0</td>\n",
       "      <td>0</td>\n",
       "      <td>0</td>\n",
       "      <td>0</td>\n",
       "      <td>0</td>\n",
       "      <td>0</td>\n",
       "      <td>0</td>\n",
       "      <td>1</td>\n",
       "      <td>0</td>\n",
       "    </tr>\n",
       "    <tr>\n",
       "      <th>2</th>\n",
       "      <td>0</td>\n",
       "      <td>0</td>\n",
       "      <td>67500.0</td>\n",
       "      <td>135000.0</td>\n",
       "      <td>6750.0</td>\n",
       "      <td>0.010032</td>\n",
       "      <td>26</td>\n",
       "      <td>1</td>\n",
       "      <td>9</td>\n",
       "      <td>0</td>\n",
       "      <td>...</td>\n",
       "      <td>0</td>\n",
       "      <td>0</td>\n",
       "      <td>0</td>\n",
       "      <td>0</td>\n",
       "      <td>0</td>\n",
       "      <td>0</td>\n",
       "      <td>0</td>\n",
       "      <td>1</td>\n",
       "      <td>0</td>\n",
       "      <td>0</td>\n",
       "    </tr>\n",
       "    <tr>\n",
       "      <th>3</th>\n",
       "      <td>0</td>\n",
       "      <td>0</td>\n",
       "      <td>135000.0</td>\n",
       "      <td>312682.5</td>\n",
       "      <td>29686.5</td>\n",
       "      <td>0.008019</td>\n",
       "      <td>0</td>\n",
       "      <td>2</td>\n",
       "      <td>17</td>\n",
       "      <td>0</td>\n",
       "      <td>...</td>\n",
       "      <td>0</td>\n",
       "      <td>0</td>\n",
       "      <td>1</td>\n",
       "      <td>0</td>\n",
       "      <td>0</td>\n",
       "      <td>0</td>\n",
       "      <td>1</td>\n",
       "      <td>0</td>\n",
       "      <td>0</td>\n",
       "      <td>0</td>\n",
       "    </tr>\n",
       "    <tr>\n",
       "      <th>4</th>\n",
       "      <td>0</td>\n",
       "      <td>0</td>\n",
       "      <td>121500.0</td>\n",
       "      <td>513000.0</td>\n",
       "      <td>21865.5</td>\n",
       "      <td>0.028663</td>\n",
       "      <td>0</td>\n",
       "      <td>1</td>\n",
       "      <td>11</td>\n",
       "      <td>0</td>\n",
       "      <td>...</td>\n",
       "      <td>1</td>\n",
       "      <td>0</td>\n",
       "      <td>0</td>\n",
       "      <td>0</td>\n",
       "      <td>0</td>\n",
       "      <td>0</td>\n",
       "      <td>0</td>\n",
       "      <td>0</td>\n",
       "      <td>1</td>\n",
       "      <td>0</td>\n",
       "    </tr>\n",
       "  </tbody>\n",
       "</table>\n",
       "<p>5 rows × 62 columns</p>\n",
       "</div>"
      ],
      "text/plain": [
       "   TARGET  CNT_CHILDREN  AMT_INCOME_TOTAL  AMT_CREDIT  AMT_ANNUITY  \\\n",
       "0       1             0          202500.0    406597.5      24700.5   \n",
       "1       0             0          270000.0   1293502.5      35698.5   \n",
       "2       0             0           67500.0    135000.0       6750.0   \n",
       "3       0             0          135000.0    312682.5      29686.5   \n",
       "4       0             0          121500.0    513000.0      21865.5   \n",
       "\n",
       "   REGION_POPULATION_RELATIVE  OWN_CAR_AGE  CNT_FAM_MEMBERS  \\\n",
       "0                    0.018801            0                1   \n",
       "1                    0.003541            0                2   \n",
       "2                    0.010032           26                1   \n",
       "3                    0.008019            0                2   \n",
       "4                    0.028663            0                1   \n",
       "\n",
       "   HOUR_APPR_PROCESS_START  REG_CITY_NOT_LIVE_CITY  ...  \\\n",
       "0                       10                       0  ...   \n",
       "1                       11                       0  ...   \n",
       "2                        9                       0  ...   \n",
       "3                       17                       0  ...   \n",
       "4                       11                       0  ...   \n",
       "\n",
       "   WEEKDAY_APPR_PROCESS_START_G_THURSDAY  \\\n",
       "0                                      0   \n",
       "1                                      0   \n",
       "2                                      0   \n",
       "3                                      0   \n",
       "4                                      1   \n",
       "\n",
       "   WEEKDAY_APPR_PROCESS_START_G_TUESDAY  \\\n",
       "0                                     0   \n",
       "1                                     0   \n",
       "2                                     0   \n",
       "3                                     0   \n",
       "4                                     0   \n",
       "\n",
       "   WEEKDAY_APPR_PROCESS_START_G_WEDNESDAY  \\\n",
       "0                                       1   \n",
       "1                                       0   \n",
       "2                                       0   \n",
       "3                                       1   \n",
       "4                                       0   \n",
       "\n",
       "   WEEKDAY_APPR_PROCESS_START_G_WEEKEND  ORGANIZATION_TYPE_G_Type2  \\\n",
       "0                                     0                          0   \n",
       "1                                     0                          0   \n",
       "2                                     0                          0   \n",
       "3                                     0                          0   \n",
       "4                                     0                          0   \n",
       "\n",
       "   ORGANIZATION_TYPE_G_Type3  ORGANIZATION_TYPE_G_Type4  \\\n",
       "0                          0                          1   \n",
       "1                          0                          0   \n",
       "2                          0                          0   \n",
       "3                          0                          1   \n",
       "4                          0                          0   \n",
       "\n",
       "   ORGANIZATION_TYPE_G_Type5  ORGANIZATION_TYPE_G_Type6  \\\n",
       "0                          0                          0   \n",
       "1                          0                          1   \n",
       "2                          1                          0   \n",
       "3                          0                          0   \n",
       "4                          0                          1   \n",
       "\n",
       "   ORGANIZATION_TYPE_G_Type7  \n",
       "0                          0  \n",
       "1                          0  \n",
       "2                          0  \n",
       "3                          0  \n",
       "4                          0  \n",
       "\n",
       "[5 rows x 62 columns]"
      ]
     },
     "execution_count": 4,
     "metadata": {},
     "output_type": "execute_result"
    }
   ],
   "source": [
    "app_data = pd.read_csv('final_data.csv')\n",
    "\n",
    "app_data.head()"
   ]
  },
  {
   "cell_type": "code",
   "execution_count": 5,
   "metadata": {},
   "outputs": [],
   "source": [
    "X = app_data.drop(columns = ['TARGET'])    # Independent Variable\n",
    "Y = app_data['TARGET']                      # Dependent Variable"
   ]
  },
  {
   "cell_type": "markdown",
   "metadata": {},
   "source": [
    "<h1  style=\"text-align: center\"  class=\"list-group-item list-group-item-warning\"> <span style=\"color:#2E6AA9\">Benchmark Model</span>  </h1>"
   ]
  },
  {
   "cell_type": "code",
   "execution_count": 6,
   "metadata": {},
   "outputs": [
    {
     "data": {
      "text/plain": [
       "LogisticRegression()"
      ]
     },
     "execution_count": 6,
     "metadata": {},
     "output_type": "execute_result"
    }
   ],
   "source": [
    "lg_model = LogisticRegression()\n",
    "\n",
    "lg_model.fit(X, Y)"
   ]
  },
  {
   "cell_type": "code",
   "execution_count": 7,
   "metadata": {},
   "outputs": [
    {
     "data": {
      "text/plain": [
       "0    0.919271\n",
       "1    0.080729\n",
       "Name: TARGET, dtype: float64"
      ]
     },
     "execution_count": 7,
     "metadata": {},
     "output_type": "execute_result"
    }
   ],
   "source": [
    "Y.value_counts(normalize=True)"
   ]
  },
  {
   "cell_type": "code",
   "execution_count": 8,
   "metadata": {},
   "outputs": [],
   "source": [
    "Y_pred = lg_model.predict(X)"
   ]
  },
  {
   "cell_type": "code",
   "execution_count": 9,
   "metadata": {},
   "outputs": [
    {
     "data": {
      "text/plain": [
       "array([[-1.18736018e-04, -3.50549301e-06, -2.25696736e-07,\n",
       "        -1.72805237e-06, -1.13648004e-05, -1.08627387e-03,\n",
       "        -1.05088529e-03, -6.66768818e-03,  2.83739701e-05,\n",
       "        -2.40088411e-06, -1.41221465e-06, -1.37911103e-05,\n",
       "        -1.04217185e-04, -1.17201487e-04, -6.65031695e-04,\n",
       "        -3.09554570e-02, -5.93407817e-03, -1.89529978e-02,\n",
       "        -1.85511145e-04,  8.85690345e-05, -8.86998358e-05,\n",
       "        -4.03199133e-04, -2.35575743e-04, -8.11309240e-05,\n",
       "        -5.51857609e-04, -2.23160231e-04, -2.81569528e-06,\n",
       "        -5.07878452e-04, -2.40539805e-05, -5.09445849e-04,\n",
       "        -2.17999516e-05, -5.61038796e-04, -5.79941057e-04,\n",
       "        -5.72791850e-04, -5.69870673e-04, -5.48129619e-04,\n",
       "        -4.53321029e-06, -4.51406191e-04,  2.89582685e-07,\n",
       "        -2.35385840e-04, -1.36152315e-04, -9.48144494e-06,\n",
       "        -4.07281617e-04, -4.96848241e-05, -1.25042975e-04,\n",
       "        -5.01549510e-06,  3.73694526e-06, -2.58242191e-04,\n",
       "         1.38541093e-06, -2.58568527e-04, -1.02247629e-04,\n",
       "        -8.58885699e-05, -8.80075137e-05, -8.99340321e-05,\n",
       "        -9.75340265e-05, -2.76440575e-08, -6.72682891e-05,\n",
       "        -1.75213352e-04, -2.24575098e-04, -8.79628442e-05,\n",
       "        -1.77849872e-06]])"
      ]
     },
     "execution_count": 9,
     "metadata": {},
     "output_type": "execute_result"
    }
   ],
   "source": [
    "lg_model.coef_   ## Gives the coefficients used for repective columns in independent variable"
   ]
  },
  {
   "cell_type": "code",
   "execution_count": 10,
   "metadata": {},
   "outputs": [
    {
     "data": {
      "text/plain": [
       "array([-0.00055345])"
      ]
     },
     "execution_count": 10,
     "metadata": {},
     "output_type": "execute_result"
    }
   ],
   "source": [
    "lg_model.intercept_"
   ]
  },
  {
   "cell_type": "code",
   "execution_count": 11,
   "metadata": {},
   "outputs": [
    {
     "data": {
      "text/plain": [
       "0.9192711805431351"
      ]
     },
     "execution_count": 11,
     "metadata": {},
     "output_type": "execute_result"
    }
   ],
   "source": [
    "accuracy_score(Y, Y_pred)   ## Not good because, right now our classes are imbalanced, \n",
    "                            ## i.e., more number of 0's and less number of 1s\n",
    "    \n",
    "    ## Here, the threshold is already defined"
   ]
  },
  {
   "cell_type": "code",
   "execution_count": 12,
   "metadata": {},
   "outputs": [
    {
     "data": {
      "text/plain": [
       "array([[     0,  24825],\n",
       "       [     0, 282686]])"
      ]
     },
     "execution_count": 12,
     "metadata": {},
     "output_type": "execute_result"
    }
   ],
   "source": [
    "confusion_matrix(Y, Y_pred, labels = [1, 0])   ## Very high baisness in the model, good at predicting 0s not 1s"
   ]
  },
  {
   "cell_type": "markdown",
   "metadata": {},
   "source": [
    "Here, accuracy is not a good criteria."
   ]
  },
  {
   "cell_type": "code",
   "execution_count": 13,
   "metadata": {},
   "outputs": [
    {
     "data": {
      "text/plain": [
       "0.0"
      ]
     },
     "execution_count": 13,
     "metadata": {},
     "output_type": "execute_result"
    }
   ],
   "source": [
    "f1_score(Y, Y_pred)"
   ]
  },
  {
   "cell_type": "code",
   "execution_count": 14,
   "metadata": {},
   "outputs": [
    {
     "data": {
      "text/plain": [
       "0    0.919271\n",
       "1    0.080729\n",
       "Name: TARGET, dtype: float64"
      ]
     },
     "execution_count": 14,
     "metadata": {},
     "output_type": "execute_result"
    }
   ],
   "source": [
    "Y.value_counts(normalize = True)"
   ]
  },
  {
   "cell_type": "markdown",
   "metadata": {},
   "source": [
    "Here, we are having a proportion mismatch, as maximum number of values are 0s not a balance of 0 and 1."
   ]
  },
  {
   "cell_type": "markdown",
   "metadata": {},
   "source": [
    "<h1  style=\"text-align: center\"  class=\"list-group-item list-group-item-warning\"> <span style=\"color:#2E6AA9\">Changing Proporation of Target Class</span>  </h1>"
   ]
  },
  {
   "cell_type": "code",
   "execution_count": 43,
   "metadata": {},
   "outputs": [],
   "source": [
    "data_1 = app_data[app_data['TARGET'] == 1]\n",
    "data_2 = app_data[app_data['TARGET'] == 0].sample(frac = 0.07)"
   ]
  },
  {
   "cell_type": "code",
   "execution_count": 44,
   "metadata": {
    "scrolled": true
   },
   "outputs": [
    {
     "data": {
      "text/html": [
       "<div>\n",
       "<style scoped>\n",
       "    .dataframe tbody tr th:only-of-type {\n",
       "        vertical-align: middle;\n",
       "    }\n",
       "\n",
       "    .dataframe tbody tr th {\n",
       "        vertical-align: top;\n",
       "    }\n",
       "\n",
       "    .dataframe thead th {\n",
       "        text-align: right;\n",
       "    }\n",
       "</style>\n",
       "<table border=\"1\" class=\"dataframe\">\n",
       "  <thead>\n",
       "    <tr style=\"text-align: right;\">\n",
       "      <th></th>\n",
       "      <th>count</th>\n",
       "      <th>mean</th>\n",
       "      <th>std</th>\n",
       "      <th>min</th>\n",
       "      <th>25%</th>\n",
       "      <th>50%</th>\n",
       "      <th>75%</th>\n",
       "      <th>max</th>\n",
       "    </tr>\n",
       "  </thead>\n",
       "  <tbody>\n",
       "    <tr>\n",
       "      <th>TARGET</th>\n",
       "      <td>282686.0</td>\n",
       "      <td>0.000000</td>\n",
       "      <td>0.000000</td>\n",
       "      <td>0.0</td>\n",
       "      <td>0.0</td>\n",
       "      <td>0.0</td>\n",
       "      <td>0.0</td>\n",
       "      <td>0.0</td>\n",
       "    </tr>\n",
       "    <tr>\n",
       "      <th>CNT_CHILDREN</th>\n",
       "      <td>282686.0</td>\n",
       "      <td>0.412153</td>\n",
       "      <td>0.711947</td>\n",
       "      <td>0.0</td>\n",
       "      <td>0.0</td>\n",
       "      <td>0.0</td>\n",
       "      <td>1.0</td>\n",
       "      <td>4.0</td>\n",
       "    </tr>\n",
       "    <tr>\n",
       "      <th>AMT_INCOME_TOTAL</th>\n",
       "      <td>282686.0</td>\n",
       "      <td>166599.255677</td>\n",
       "      <td>83606.103265</td>\n",
       "      <td>25650.0</td>\n",
       "      <td>112500.0</td>\n",
       "      <td>148500.0</td>\n",
       "      <td>202500.0</td>\n",
       "      <td>472500.0</td>\n",
       "    </tr>\n",
       "    <tr>\n",
       "      <th>AMT_CREDIT</th>\n",
       "      <td>282686.0</td>\n",
       "      <td>602648.282002</td>\n",
       "      <td>406845.907710</td>\n",
       "      <td>45000.0</td>\n",
       "      <td>270000.0</td>\n",
       "      <td>517788.0</td>\n",
       "      <td>810000.0</td>\n",
       "      <td>4050000.0</td>\n",
       "    </tr>\n",
       "    <tr>\n",
       "      <th>AMT_ANNUITY</th>\n",
       "      <td>282686.0</td>\n",
       "      <td>27163.527386</td>\n",
       "      <td>14658.003451</td>\n",
       "      <td>1615.5</td>\n",
       "      <td>16456.5</td>\n",
       "      <td>24876.0</td>\n",
       "      <td>34749.0</td>\n",
       "      <td>258025.5</td>\n",
       "    </tr>\n",
       "    <tr>\n",
       "      <th>...</th>\n",
       "      <td>...</td>\n",
       "      <td>...</td>\n",
       "      <td>...</td>\n",
       "      <td>...</td>\n",
       "      <td>...</td>\n",
       "      <td>...</td>\n",
       "      <td>...</td>\n",
       "      <td>...</td>\n",
       "    </tr>\n",
       "    <tr>\n",
       "      <th>ORGANIZATION_TYPE_G_Type3</th>\n",
       "      <td>282686.0</td>\n",
       "      <td>0.229141</td>\n",
       "      <td>0.420281</td>\n",
       "      <td>0.0</td>\n",
       "      <td>0.0</td>\n",
       "      <td>0.0</td>\n",
       "      <td>0.0</td>\n",
       "      <td>1.0</td>\n",
       "    </tr>\n",
       "    <tr>\n",
       "      <th>ORGANIZATION_TYPE_G_Type4</th>\n",
       "      <td>282686.0</td>\n",
       "      <td>0.427913</td>\n",
       "      <td>0.494777</td>\n",
       "      <td>0.0</td>\n",
       "      <td>0.0</td>\n",
       "      <td>0.0</td>\n",
       "      <td>1.0</td>\n",
       "      <td>1.0</td>\n",
       "    </tr>\n",
       "    <tr>\n",
       "      <th>ORGANIZATION_TYPE_G_Type5</th>\n",
       "      <td>282686.0</td>\n",
       "      <td>0.248382</td>\n",
       "      <td>0.432075</td>\n",
       "      <td>0.0</td>\n",
       "      <td>0.0</td>\n",
       "      <td>0.0</td>\n",
       "      <td>0.0</td>\n",
       "      <td>1.0</td>\n",
       "    </tr>\n",
       "    <tr>\n",
       "      <th>ORGANIZATION_TYPE_G_Type6</th>\n",
       "      <td>282686.0</td>\n",
       "      <td>0.088055</td>\n",
       "      <td>0.283376</td>\n",
       "      <td>0.0</td>\n",
       "      <td>0.0</td>\n",
       "      <td>0.0</td>\n",
       "      <td>0.0</td>\n",
       "      <td>1.0</td>\n",
       "    </tr>\n",
       "    <tr>\n",
       "      <th>ORGANIZATION_TYPE_G_Type7</th>\n",
       "      <td>282686.0</td>\n",
       "      <td>0.001716</td>\n",
       "      <td>0.041385</td>\n",
       "      <td>0.0</td>\n",
       "      <td>0.0</td>\n",
       "      <td>0.0</td>\n",
       "      <td>0.0</td>\n",
       "      <td>1.0</td>\n",
       "    </tr>\n",
       "  </tbody>\n",
       "</table>\n",
       "<p>62 rows × 8 columns</p>\n",
       "</div>"
      ],
      "text/plain": [
       "                              count           mean            std      min  \\\n",
       "TARGET                     282686.0       0.000000       0.000000      0.0   \n",
       "CNT_CHILDREN               282686.0       0.412153       0.711947      0.0   \n",
       "AMT_INCOME_TOTAL           282686.0  166599.255677   83606.103265  25650.0   \n",
       "AMT_CREDIT                 282686.0  602648.282002  406845.907710  45000.0   \n",
       "AMT_ANNUITY                282686.0   27163.527386   14658.003451   1615.5   \n",
       "...                             ...            ...            ...      ...   \n",
       "ORGANIZATION_TYPE_G_Type3  282686.0       0.229141       0.420281      0.0   \n",
       "ORGANIZATION_TYPE_G_Type4  282686.0       0.427913       0.494777      0.0   \n",
       "ORGANIZATION_TYPE_G_Type5  282686.0       0.248382       0.432075      0.0   \n",
       "ORGANIZATION_TYPE_G_Type6  282686.0       0.088055       0.283376      0.0   \n",
       "ORGANIZATION_TYPE_G_Type7  282686.0       0.001716       0.041385      0.0   \n",
       "\n",
       "                                25%       50%       75%        max  \n",
       "TARGET                          0.0       0.0       0.0        0.0  \n",
       "CNT_CHILDREN                    0.0       0.0       1.0        4.0  \n",
       "AMT_INCOME_TOTAL           112500.0  148500.0  202500.0   472500.0  \n",
       "AMT_CREDIT                 270000.0  517788.0  810000.0  4050000.0  \n",
       "AMT_ANNUITY                 16456.5   24876.0   34749.0   258025.5  \n",
       "...                             ...       ...       ...        ...  \n",
       "ORGANIZATION_TYPE_G_Type3       0.0       0.0       0.0        1.0  \n",
       "ORGANIZATION_TYPE_G_Type4       0.0       0.0       1.0        1.0  \n",
       "ORGANIZATION_TYPE_G_Type5       0.0       0.0       0.0        1.0  \n",
       "ORGANIZATION_TYPE_G_Type6       0.0       0.0       0.0        1.0  \n",
       "ORGANIZATION_TYPE_G_Type7       0.0       0.0       0.0        1.0  \n",
       "\n",
       "[62 rows x 8 columns]"
      ]
     },
     "execution_count": 44,
     "metadata": {},
     "output_type": "execute_result"
    }
   ],
   "source": [
    "app_data[app_data['TARGET'] == 0].describe().T"
   ]
  },
  {
   "cell_type": "code",
   "execution_count": 45,
   "metadata": {
    "scrolled": true
   },
   "outputs": [
    {
     "data": {
      "text/html": [
       "<div>\n",
       "<style scoped>\n",
       "    .dataframe tbody tr th:only-of-type {\n",
       "        vertical-align: middle;\n",
       "    }\n",
       "\n",
       "    .dataframe tbody tr th {\n",
       "        vertical-align: top;\n",
       "    }\n",
       "\n",
       "    .dataframe thead th {\n",
       "        text-align: right;\n",
       "    }\n",
       "</style>\n",
       "<table border=\"1\" class=\"dataframe\">\n",
       "  <thead>\n",
       "    <tr style=\"text-align: right;\">\n",
       "      <th></th>\n",
       "      <th>count</th>\n",
       "      <th>mean</th>\n",
       "      <th>std</th>\n",
       "      <th>min</th>\n",
       "      <th>25%</th>\n",
       "      <th>50%</th>\n",
       "      <th>75%</th>\n",
       "      <th>max</th>\n",
       "    </tr>\n",
       "  </thead>\n",
       "  <tbody>\n",
       "    <tr>\n",
       "      <th>TARGET</th>\n",
       "      <td>19788.0</td>\n",
       "      <td>0.000000</td>\n",
       "      <td>0.000000</td>\n",
       "      <td>0.0</td>\n",
       "      <td>0.0</td>\n",
       "      <td>0.0</td>\n",
       "      <td>0.000</td>\n",
       "      <td>0.0</td>\n",
       "    </tr>\n",
       "    <tr>\n",
       "      <th>CNT_CHILDREN</th>\n",
       "      <td>19788.0</td>\n",
       "      <td>0.414645</td>\n",
       "      <td>0.710861</td>\n",
       "      <td>0.0</td>\n",
       "      <td>0.0</td>\n",
       "      <td>0.0</td>\n",
       "      <td>1.000</td>\n",
       "      <td>4.0</td>\n",
       "    </tr>\n",
       "    <tr>\n",
       "      <th>AMT_INCOME_TOTAL</th>\n",
       "      <td>19788.0</td>\n",
       "      <td>166785.937038</td>\n",
       "      <td>84182.916001</td>\n",
       "      <td>27000.0</td>\n",
       "      <td>112500.0</td>\n",
       "      <td>148500.0</td>\n",
       "      <td>202500.000</td>\n",
       "      <td>472500.0</td>\n",
       "    </tr>\n",
       "    <tr>\n",
       "      <th>AMT_CREDIT</th>\n",
       "      <td>19788.0</td>\n",
       "      <td>603703.784263</td>\n",
       "      <td>408215.050294</td>\n",
       "      <td>45000.0</td>\n",
       "      <td>270000.0</td>\n",
       "      <td>512446.5</td>\n",
       "      <td>814041.000</td>\n",
       "      <td>4050000.0</td>\n",
       "    </tr>\n",
       "    <tr>\n",
       "      <th>AMT_ANNUITY</th>\n",
       "      <td>19788.0</td>\n",
       "      <td>27222.752729</td>\n",
       "      <td>14829.992385</td>\n",
       "      <td>1993.5</td>\n",
       "      <td>16456.5</td>\n",
       "      <td>24714.0</td>\n",
       "      <td>34948.125</td>\n",
       "      <td>230161.5</td>\n",
       "    </tr>\n",
       "    <tr>\n",
       "      <th>...</th>\n",
       "      <td>...</td>\n",
       "      <td>...</td>\n",
       "      <td>...</td>\n",
       "      <td>...</td>\n",
       "      <td>...</td>\n",
       "      <td>...</td>\n",
       "      <td>...</td>\n",
       "      <td>...</td>\n",
       "    </tr>\n",
       "    <tr>\n",
       "      <th>ORGANIZATION_TYPE_G_Type3</th>\n",
       "      <td>19788.0</td>\n",
       "      <td>0.224985</td>\n",
       "      <td>0.417583</td>\n",
       "      <td>0.0</td>\n",
       "      <td>0.0</td>\n",
       "      <td>0.0</td>\n",
       "      <td>0.000</td>\n",
       "      <td>1.0</td>\n",
       "    </tr>\n",
       "    <tr>\n",
       "      <th>ORGANIZATION_TYPE_G_Type4</th>\n",
       "      <td>19788.0</td>\n",
       "      <td>0.430311</td>\n",
       "      <td>0.495132</td>\n",
       "      <td>0.0</td>\n",
       "      <td>0.0</td>\n",
       "      <td>0.0</td>\n",
       "      <td>1.000</td>\n",
       "      <td>1.0</td>\n",
       "    </tr>\n",
       "    <tr>\n",
       "      <th>ORGANIZATION_TYPE_G_Type5</th>\n",
       "      <td>19788.0</td>\n",
       "      <td>0.247322</td>\n",
       "      <td>0.431466</td>\n",
       "      <td>0.0</td>\n",
       "      <td>0.0</td>\n",
       "      <td>0.0</td>\n",
       "      <td>0.000</td>\n",
       "      <td>1.0</td>\n",
       "    </tr>\n",
       "    <tr>\n",
       "      <th>ORGANIZATION_TYPE_G_Type6</th>\n",
       "      <td>19788.0</td>\n",
       "      <td>0.090206</td>\n",
       "      <td>0.286484</td>\n",
       "      <td>0.0</td>\n",
       "      <td>0.0</td>\n",
       "      <td>0.0</td>\n",
       "      <td>0.000</td>\n",
       "      <td>1.0</td>\n",
       "    </tr>\n",
       "    <tr>\n",
       "      <th>ORGANIZATION_TYPE_G_Type7</th>\n",
       "      <td>19788.0</td>\n",
       "      <td>0.001769</td>\n",
       "      <td>0.042020</td>\n",
       "      <td>0.0</td>\n",
       "      <td>0.0</td>\n",
       "      <td>0.0</td>\n",
       "      <td>0.000</td>\n",
       "      <td>1.0</td>\n",
       "    </tr>\n",
       "  </tbody>\n",
       "</table>\n",
       "<p>62 rows × 8 columns</p>\n",
       "</div>"
      ],
      "text/plain": [
       "                             count           mean            std      min  \\\n",
       "TARGET                     19788.0       0.000000       0.000000      0.0   \n",
       "CNT_CHILDREN               19788.0       0.414645       0.710861      0.0   \n",
       "AMT_INCOME_TOTAL           19788.0  166785.937038   84182.916001  27000.0   \n",
       "AMT_CREDIT                 19788.0  603703.784263  408215.050294  45000.0   \n",
       "AMT_ANNUITY                19788.0   27222.752729   14829.992385   1993.5   \n",
       "...                            ...            ...            ...      ...   \n",
       "ORGANIZATION_TYPE_G_Type3  19788.0       0.224985       0.417583      0.0   \n",
       "ORGANIZATION_TYPE_G_Type4  19788.0       0.430311       0.495132      0.0   \n",
       "ORGANIZATION_TYPE_G_Type5  19788.0       0.247322       0.431466      0.0   \n",
       "ORGANIZATION_TYPE_G_Type6  19788.0       0.090206       0.286484      0.0   \n",
       "ORGANIZATION_TYPE_G_Type7  19788.0       0.001769       0.042020      0.0   \n",
       "\n",
       "                                25%       50%         75%        max  \n",
       "TARGET                          0.0       0.0       0.000        0.0  \n",
       "CNT_CHILDREN                    0.0       0.0       1.000        4.0  \n",
       "AMT_INCOME_TOTAL           112500.0  148500.0  202500.000   472500.0  \n",
       "AMT_CREDIT                 270000.0  512446.5  814041.000  4050000.0  \n",
       "AMT_ANNUITY                 16456.5   24714.0   34948.125   230161.5  \n",
       "...                             ...       ...         ...        ...  \n",
       "ORGANIZATION_TYPE_G_Type3       0.0       0.0       0.000        1.0  \n",
       "ORGANIZATION_TYPE_G_Type4       0.0       0.0       1.000        1.0  \n",
       "ORGANIZATION_TYPE_G_Type5       0.0       0.0       0.000        1.0  \n",
       "ORGANIZATION_TYPE_G_Type6       0.0       0.0       0.000        1.0  \n",
       "ORGANIZATION_TYPE_G_Type7       0.0       0.0       0.000        1.0  \n",
       "\n",
       "[62 rows x 8 columns]"
      ]
     },
     "execution_count": 45,
     "metadata": {},
     "output_type": "execute_result"
    }
   ],
   "source": [
    "data_2.describe().T"
   ]
  },
  {
   "cell_type": "markdown",
   "metadata": {},
   "source": [
    "There is not much difference in terms of Statistical distribution between the Original 0s data and the different proportion of the same data."
   ]
  },
  {
   "cell_type": "code",
   "execution_count": 46,
   "metadata": {},
   "outputs": [
    {
     "data": {
      "text/plain": [
       "((24825, 62), (19788, 62))"
      ]
     },
     "execution_count": 46,
     "metadata": {},
     "output_type": "execute_result"
    }
   ],
   "source": [
    "data_1.shape, data_2.shape"
   ]
  },
  {
   "cell_type": "code",
   "execution_count": 47,
   "metadata": {},
   "outputs": [
    {
     "data": {
      "text/plain": [
       "(44613, 62)"
      ]
     },
     "execution_count": 47,
     "metadata": {},
     "output_type": "execute_result"
    }
   ],
   "source": [
    "data_full = pd.concat([data_1, data_2], axis = 0)\n",
    "data_full.shape"
   ]
  },
  {
   "cell_type": "code",
   "execution_count": 48,
   "metadata": {},
   "outputs": [],
   "source": [
    "data_full = pd.concat([data_1, data_2], axis = 0)\n",
    "X = data_full.drop(columns = ['TARGET'])\n",
    "Y = data_full['TARGET']"
   ]
  },
  {
   "cell_type": "code",
   "execution_count": 49,
   "metadata": {},
   "outputs": [
    {
     "data": {
      "text/plain": [
       "1    0.556452\n",
       "0    0.443548\n",
       "Name: TARGET, dtype: float64"
      ]
     },
     "execution_count": 49,
     "metadata": {},
     "output_type": "execute_result"
    }
   ],
   "source": [
    "Y.value_counts(normalize = True)         ## Change in the proportion of the 0s and 1s in the final data"
   ]
  },
  {
   "cell_type": "code",
   "execution_count": 50,
   "metadata": {},
   "outputs": [
    {
     "data": {
      "text/plain": [
       "LogisticRegression(class_weight='balanced')"
      ]
     },
     "execution_count": 50,
     "metadata": {},
     "output_type": "execute_result"
    }
   ],
   "source": [
    "lg_model.fit(X, Y)"
   ]
  },
  {
   "cell_type": "code",
   "execution_count": 51,
   "metadata": {},
   "outputs": [],
   "source": [
    "Y_pred = lg_model.predict(X)"
   ]
  },
  {
   "cell_type": "code",
   "execution_count": 52,
   "metadata": {},
   "outputs": [
    {
     "data": {
      "text/plain": [
       "array([[10488, 14337],\n",
       "       [ 7124, 12664]])"
      ]
     },
     "execution_count": 52,
     "metadata": {},
     "output_type": "execute_result"
    }
   ],
   "source": [
    "confusion_matrix(Y, Y_pred, labels = [1, 0])"
   ]
  },
  {
   "cell_type": "code",
   "execution_count": 53,
   "metadata": {},
   "outputs": [
    {
     "name": "stdout",
     "output_type": "stream",
     "text": [
      "The accuracy and f1 score on the training data is 0.5189518750140094 and 0.49428564695902166 respectively.\n"
     ]
    }
   ],
   "source": [
    "print(f'The accuracy and f1 score on the training data is {accuracy_score(Y, Y_pred)} and {f1_score(Y, Y_pred)} respectively.')"
   ]
  },
  {
   "cell_type": "markdown",
   "metadata": {},
   "source": [
    "The accuracy score and the f1 score have improved comparing to the previous base (dumb) model."
   ]
  },
  {
   "cell_type": "markdown",
   "metadata": {},
   "source": [
    "<h1  style=\"text-align: center\"  class=\"list-group-item list-group-item-warning\"> <span style=\"color:#2E6AA9\">Using Balanced Class</span>  </h1>"
   ]
  },
  {
   "cell_type": "code",
   "execution_count": 54,
   "metadata": {},
   "outputs": [],
   "source": [
    "lg_model = LogisticRegression(class_weight = 'balanced')   ## Automatically takes care of class imbalance"
   ]
  },
  {
   "cell_type": "code",
   "execution_count": 55,
   "metadata": {},
   "outputs": [],
   "source": [
    "xtrain, xtest, ytrain, ytest = train_test_split(X, Y, test_size = 0.3, shuffle = True, stratify = Y)"
   ]
  },
  {
   "cell_type": "code",
   "execution_count": 56,
   "metadata": {},
   "outputs": [
    {
     "data": {
      "text/plain": [
       "1    0.556485\n",
       "0    0.443515\n",
       "Name: TARGET, dtype: float64"
      ]
     },
     "execution_count": 56,
     "metadata": {},
     "output_type": "execute_result"
    }
   ],
   "source": [
    "ytrain.value_counts(normalize = True)\n",
    "ytest.value_counts(normalize = True)"
   ]
  },
  {
   "cell_type": "code",
   "execution_count": 57,
   "metadata": {},
   "outputs": [
    {
     "data": {
      "text/plain": [
       "LogisticRegression(class_weight='balanced')"
      ]
     },
     "execution_count": 57,
     "metadata": {},
     "output_type": "execute_result"
    }
   ],
   "source": [
    "lg_model = LogisticRegression(class_weight = 'balanced')\n",
    "lg_model.fit(xtrain, ytrain)"
   ]
  },
  {
   "cell_type": "code",
   "execution_count": 58,
   "metadata": {},
   "outputs": [],
   "source": [
    "Y_train_pred = lg_model.predict(xtrain)\n",
    "Y_test_pred = lg_model.predict(xtest)"
   ]
  },
  {
   "cell_type": "code",
   "execution_count": 59,
   "metadata": {},
   "outputs": [
    {
     "data": {
      "text/plain": [
       "array([[7394, 9983],\n",
       "       [4322, 9530]])"
      ]
     },
     "execution_count": 59,
     "metadata": {},
     "output_type": "execute_result"
    }
   ],
   "source": [
    "confusion_matrix(ytrain, Y_train_pred, labels = [1,0]) "
   ]
  },
  {
   "cell_type": "code",
   "execution_count": 60,
   "metadata": {},
   "outputs": [
    {
     "data": {
      "text/plain": [
       "array([[3102, 4346],\n",
       "       [1878, 4058]])"
      ]
     },
     "execution_count": 60,
     "metadata": {},
     "output_type": "execute_result"
    }
   ],
   "source": [
    "confusion_matrix(ytest, Y_test_pred, labels = [1,0]) "
   ]
  },
  {
   "cell_type": "code",
   "execution_count": 61,
   "metadata": {},
   "outputs": [
    {
     "name": "stdout",
     "output_type": "stream",
     "text": [
      "The accuracy and f1 score on the training data is 0.5419321784239008 and 0.5083009658680783 respectively.\n",
      "\n",
      "The accuracy and f1 score on the testing data is 0.5349671249252839 and 0.499195365304152 respectively.\n"
     ]
    }
   ],
   "source": [
    "print(f'The accuracy and f1 score on the training data is {accuracy_score(ytrain,Y_train_pred)} and {f1_score(ytrain,Y_train_pred)} respectively.')\n",
    "print('')\n",
    "print(f'The accuracy and f1 score on the testing data is {accuracy_score(ytest,Y_test_pred)} and {f1_score(ytest,Y_test_pred)} respectively.')"
   ]
  },
  {
   "cell_type": "markdown",
   "metadata": {},
   "source": [
    "Accuracy and performance of the this model with balanced class_weight has improved from the previous model with varied proporation of the target class."
   ]
  },
  {
   "cell_type": "markdown",
   "metadata": {},
   "source": [
    "<h1  style=\"text-align: center\"  class=\"list-group-item list-group-item-warning\"> <span style=\"color:#2E6AA9\">Hyperparameter Tuning</span>  </h1>"
   ]
  },
  {
   "cell_type": "code",
   "execution_count": 62,
   "metadata": {},
   "outputs": [],
   "source": [
    "clf = LogisticRegression(solver = 'saga')"
   ]
  },
  {
   "cell_type": "code",
   "execution_count": 63,
   "metadata": {},
   "outputs": [
    {
     "data": {
      "text/plain": [
       "{'penalty': ['l1', 'l2', 'elasticnet', 'none'],\n",
       " 'tol': [1e-05, 0.0001, 0.001, 0.01, 0.7],\n",
       " 'C': [1, 2, 3, 4],\n",
       " 'fit_intercept': [True, False],\n",
       " 'solver': ['saga'],\n",
       " 'l1_ratio': [0.001, 1]}"
      ]
     },
     "execution_count": 63,
     "metadata": {},
     "output_type": "execute_result"
    }
   ],
   "source": [
    "search_space = {'penalty':['l1', 'l2', 'elasticnet', 'none'],\n",
    "                    'tol':[.00001,.0001,.001,.01,.7],\n",
    "                    'C':[1,2,3,4], 'fit_intercept':[True,False], 'solver':['saga'],'l1_ratio':[.001,1]}\n",
    "search_space"
   ]
  },
  {
   "cell_type": "code",
   "execution_count": 64,
   "metadata": {},
   "outputs": [],
   "source": [
    "random_clf = RandomizedSearchCV(estimator=clf, param_distributions=search_space, n_iter=5, scoring='f1', cv=2)"
   ]
  },
  {
   "cell_type": "code",
   "execution_count": 65,
   "metadata": {},
   "outputs": [
    {
     "data": {
      "text/plain": [
       "RandomizedSearchCV(cv=2, estimator=LogisticRegression(solver='saga'), n_iter=5,\n",
       "                   param_distributions={'C': [1, 2, 3, 4],\n",
       "                                        'fit_intercept': [True, False],\n",
       "                                        'l1_ratio': [0.001, 1],\n",
       "                                        'penalty': ['l1', 'l2', 'elasticnet',\n",
       "                                                    'none'],\n",
       "                                        'solver': ['saga'],\n",
       "                                        'tol': [1e-05, 0.0001, 0.001, 0.01,\n",
       "                                                0.7]},\n",
       "                   scoring='f1')"
      ]
     },
     "execution_count": 65,
     "metadata": {},
     "output_type": "execute_result"
    }
   ],
   "source": [
    "random_clf.fit(xtrain, ytrain)"
   ]
  },
  {
   "cell_type": "code",
   "execution_count": 66,
   "metadata": {},
   "outputs": [
    {
     "data": {
      "text/plain": [
       "{'tol': 0.01,\n",
       " 'solver': 'saga',\n",
       " 'penalty': 'l2',\n",
       " 'l1_ratio': 0.001,\n",
       " 'fit_intercept': True,\n",
       " 'C': 1}"
      ]
     },
     "execution_count": 66,
     "metadata": {},
     "output_type": "execute_result"
    }
   ],
   "source": [
    "random_clf.best_params_"
   ]
  },
  {
   "cell_type": "code",
   "execution_count": 67,
   "metadata": {},
   "outputs": [
    {
     "data": {
      "text/html": [
       "<div>\n",
       "<style scoped>\n",
       "    .dataframe tbody tr th:only-of-type {\n",
       "        vertical-align: middle;\n",
       "    }\n",
       "\n",
       "    .dataframe tbody tr th {\n",
       "        vertical-align: top;\n",
       "    }\n",
       "\n",
       "    .dataframe thead th {\n",
       "        text-align: right;\n",
       "    }\n",
       "</style>\n",
       "<table border=\"1\" class=\"dataframe\">\n",
       "  <thead>\n",
       "    <tr style=\"text-align: right;\">\n",
       "      <th></th>\n",
       "      <th>mean_fit_time</th>\n",
       "      <th>std_fit_time</th>\n",
       "      <th>mean_score_time</th>\n",
       "      <th>std_score_time</th>\n",
       "      <th>param_tol</th>\n",
       "      <th>param_solver</th>\n",
       "      <th>param_penalty</th>\n",
       "      <th>param_l1_ratio</th>\n",
       "      <th>param_fit_intercept</th>\n",
       "      <th>param_C</th>\n",
       "      <th>params</th>\n",
       "      <th>split0_test_score</th>\n",
       "      <th>split1_test_score</th>\n",
       "      <th>mean_test_score</th>\n",
       "      <th>std_test_score</th>\n",
       "      <th>rank_test_score</th>\n",
       "    </tr>\n",
       "  </thead>\n",
       "  <tbody>\n",
       "    <tr>\n",
       "      <th>0</th>\n",
       "      <td>0.626641</td>\n",
       "      <td>0.020145</td>\n",
       "      <td>0.006076</td>\n",
       "      <td>0.000832</td>\n",
       "      <td>0.00001</td>\n",
       "      <td>saga</td>\n",
       "      <td>none</td>\n",
       "      <td>0.001</td>\n",
       "      <td>True</td>\n",
       "      <td>4</td>\n",
       "      <td>{'tol': 1e-05, 'solver': 'saga', 'penalty': 'n...</td>\n",
       "      <td>0.708660</td>\n",
       "      <td>0.696104</td>\n",
       "      <td>0.702382</td>\n",
       "      <td>0.006278</td>\n",
       "      <td>3</td>\n",
       "    </tr>\n",
       "    <tr>\n",
       "      <th>1</th>\n",
       "      <td>0.768329</td>\n",
       "      <td>0.000988</td>\n",
       "      <td>0.006407</td>\n",
       "      <td>0.000004</td>\n",
       "      <td>0.00001</td>\n",
       "      <td>saga</td>\n",
       "      <td>elasticnet</td>\n",
       "      <td>1</td>\n",
       "      <td>True</td>\n",
       "      <td>3</td>\n",
       "      <td>{'tol': 1e-05, 'solver': 'saga', 'penalty': 'e...</td>\n",
       "      <td>0.708660</td>\n",
       "      <td>0.696104</td>\n",
       "      <td>0.702382</td>\n",
       "      <td>0.006278</td>\n",
       "      <td>3</td>\n",
       "    </tr>\n",
       "    <tr>\n",
       "      <th>2</th>\n",
       "      <td>0.788774</td>\n",
       "      <td>0.023701</td>\n",
       "      <td>0.006212</td>\n",
       "      <td>0.000056</td>\n",
       "      <td>0.0001</td>\n",
       "      <td>saga</td>\n",
       "      <td>l1</td>\n",
       "      <td>1</td>\n",
       "      <td>False</td>\n",
       "      <td>1</td>\n",
       "      <td>{'tol': 0.0001, 'solver': 'saga', 'penalty': '...</td>\n",
       "      <td>0.708660</td>\n",
       "      <td>0.696104</td>\n",
       "      <td>0.702382</td>\n",
       "      <td>0.006278</td>\n",
       "      <td>3</td>\n",
       "    </tr>\n",
       "    <tr>\n",
       "      <th>3</th>\n",
       "      <td>0.263170</td>\n",
       "      <td>0.005996</td>\n",
       "      <td>0.006213</td>\n",
       "      <td>0.000052</td>\n",
       "      <td>0.01</td>\n",
       "      <td>saga</td>\n",
       "      <td>l2</td>\n",
       "      <td>0.001</td>\n",
       "      <td>True</td>\n",
       "      <td>1</td>\n",
       "      <td>{'tol': 0.01, 'solver': 'saga', 'penalty': 'l2...</td>\n",
       "      <td>0.712188</td>\n",
       "      <td>0.700661</td>\n",
       "      <td>0.706425</td>\n",
       "      <td>0.005763</td>\n",
       "      <td>1</td>\n",
       "    </tr>\n",
       "    <tr>\n",
       "      <th>4</th>\n",
       "      <td>0.766814</td>\n",
       "      <td>0.005769</td>\n",
       "      <td>0.005617</td>\n",
       "      <td>0.000679</td>\n",
       "      <td>0.00001</td>\n",
       "      <td>saga</td>\n",
       "      <td>l1</td>\n",
       "      <td>0.001</td>\n",
       "      <td>True</td>\n",
       "      <td>2</td>\n",
       "      <td>{'tol': 1e-05, 'solver': 'saga', 'penalty': 'l...</td>\n",
       "      <td>0.708660</td>\n",
       "      <td>0.696162</td>\n",
       "      <td>0.702411</td>\n",
       "      <td>0.006249</td>\n",
       "      <td>2</td>\n",
       "    </tr>\n",
       "  </tbody>\n",
       "</table>\n",
       "</div>"
      ],
      "text/plain": [
       "   mean_fit_time  std_fit_time  mean_score_time  std_score_time param_tol  \\\n",
       "0       0.626641      0.020145         0.006076        0.000832   0.00001   \n",
       "1       0.768329      0.000988         0.006407        0.000004   0.00001   \n",
       "2       0.788774      0.023701         0.006212        0.000056    0.0001   \n",
       "3       0.263170      0.005996         0.006213        0.000052      0.01   \n",
       "4       0.766814      0.005769         0.005617        0.000679   0.00001   \n",
       "\n",
       "  param_solver param_penalty param_l1_ratio param_fit_intercept param_C  \\\n",
       "0         saga          none          0.001                True       4   \n",
       "1         saga    elasticnet              1                True       3   \n",
       "2         saga            l1              1               False       1   \n",
       "3         saga            l2          0.001                True       1   \n",
       "4         saga            l1          0.001                True       2   \n",
       "\n",
       "                                              params  split0_test_score  \\\n",
       "0  {'tol': 1e-05, 'solver': 'saga', 'penalty': 'n...           0.708660   \n",
       "1  {'tol': 1e-05, 'solver': 'saga', 'penalty': 'e...           0.708660   \n",
       "2  {'tol': 0.0001, 'solver': 'saga', 'penalty': '...           0.708660   \n",
       "3  {'tol': 0.01, 'solver': 'saga', 'penalty': 'l2...           0.712188   \n",
       "4  {'tol': 1e-05, 'solver': 'saga', 'penalty': 'l...           0.708660   \n",
       "\n",
       "   split1_test_score  mean_test_score  std_test_score  rank_test_score  \n",
       "0           0.696104         0.702382        0.006278                3  \n",
       "1           0.696104         0.702382        0.006278                3  \n",
       "2           0.696104         0.702382        0.006278                3  \n",
       "3           0.700661         0.706425        0.005763                1  \n",
       "4           0.696162         0.702411        0.006249                2  "
      ]
     },
     "execution_count": 67,
     "metadata": {},
     "output_type": "execute_result"
    }
   ],
   "source": [
    "pd.DataFrame(random_clf.cv_results_)"
   ]
  },
  {
   "cell_type": "code",
   "execution_count": 68,
   "metadata": {},
   "outputs": [],
   "source": [
    "ytrain_pred = random_clf.predict(xtrain)\n",
    "ytest_pred = random_clf.predict(xtest)"
   ]
  },
  {
   "cell_type": "code",
   "execution_count": 69,
   "metadata": {},
   "outputs": [
    {
     "data": {
      "text/plain": [
       "array([[3102, 4346],\n",
       "       [1878, 4058]])"
      ]
     },
     "execution_count": 69,
     "metadata": {},
     "output_type": "execute_result"
    }
   ],
   "source": [
    "confusion_matrix(ytest, Y_test_pred, labels = [1,0]) "
   ]
  },
  {
   "cell_type": "code",
   "execution_count": 70,
   "metadata": {},
   "outputs": [
    {
     "name": "stdout",
     "output_type": "stream",
     "text": [
      "The accuracy and f1 score on the training data is 0.5610810464632233 and 0.7043165002049314 respectively.\n",
      "\n",
      "The accuracy and f1 score on the testing data is 0.5617901972504483 and 0.7055870689222429 respectively.\n"
     ]
    }
   ],
   "source": [
    "print(f'The accuracy and f1 score on the training data is {accuracy_score(ytrain,ytrain_pred)} and {f1_score(ytrain,ytrain_pred)} respectively.')\n",
    "print('')\n",
    "print(f'The accuracy and f1 score on the testing data is {accuracy_score(ytest,ytest_pred)} and {f1_score(ytest,ytest_pred)} respectively.')\n"
   ]
  },
  {
   "cell_type": "markdown",
   "metadata": {},
   "source": [
    "Hence, using Hyperparameter tuning our model's accuracy as well as f1 score has improved."
   ]
  },
  {
   "cell_type": "markdown",
   "metadata": {},
   "source": [
    "In conclusion, we observed that:\n",
    "\n",
    "$$\\textbf{Model_{Hyperparamater} > Model_{Balanced} > Model_{Baseline}}$$\n",
    "\n",
    "In terms of performance and F1 Score."
   ]
  },
  {
   "cell_type": "code",
   "execution_count": null,
   "metadata": {},
   "outputs": [],
   "source": []
  }
 ],
 "metadata": {
  "interpreter": {
   "hash": "bae8b174dd6d8321c728c7aa296052746f52bf1e837f00d1ad856bae7b9b47b3"
  },
  "kernelspec": {
   "display_name": "Python 3",
   "language": "python",
   "name": "python3"
  },
  "language_info": {
   "codemirror_mode": {
    "name": "ipython",
    "version": 3
   },
   "file_extension": ".py",
   "mimetype": "text/x-python",
   "name": "python",
   "nbconvert_exporter": "python",
   "pygments_lexer": "ipython3",
   "version": "3.8.8"
  }
 },
 "nbformat": 4,
 "nbformat_minor": 2
}
